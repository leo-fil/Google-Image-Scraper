{
 "cells": [
  {
   "cell_type": "code",
   "execution_count": 1,
   "metadata": {
    "collapsed": true
   },
   "outputs": [],
   "source": [
    "\n",
    "import os\n",
    "import concurrent.futures\n",
    "from GoogleVideoScraper import GoogleVideoScraper\n",
    "from patch import webdriver_executable"
   ]
  },
  {
   "cell_type": "code",
   "execution_count": 2,
   "outputs": [],
   "source": [
    "#Define file path\n",
    "webdriver_path = os.path.normpath(os.path.join(os.getcwd(), 'webdriver', webdriver_executable()))\n",
    "image_path = os.path.normpath(os.path.join(os.getcwd(), 'videos'))\n",
    "\n",
    "#Add new search key into array [\"cat\",\"t-shirt\",\"apple\",\"orange\",\"pear\",\"fish\"]\n",
    "# search_keys = list(set([\"Alosa alosa\", \"Dicologlossa cuneata\", \"Merluccius merluccius\",\n",
    "#                         \"Mullus surmeletus\", \"Pedusa lascaris\", \"Prionace glauca\",\n",
    "#                         \"Raja clavata\", \"Sardina pilchardus\", \"Solea senegalensis\",\n",
    "#                         \"Solea solea\", \"Spondyliosoma cantharus\", \"Zeus faber\"]))\n",
    "\n",
    "# search_keys = list(['cat'])\n",
    "\n",
    "#Parameters\n",
    "number_of_images = 2                # Desired number of images\n",
    "headless = True                     # True = No Chrome GUI\n",
    "min_resolution = (0, 0)             # Minimum desired image resolution\n",
    "max_resolution = (9999, 9999)       # Maximum desired image resolution\n",
    "max_missed = 1000                   # Max number of failed images before exit\n",
    "number_of_workers = 1               # Number of \"workers\" used\n",
    "keep_filenames = False              # Keep original URL image filenames\n",
    "keep_urls = True"
   ],
   "metadata": {
    "collapsed": false
   }
  },
  {
   "cell_type": "code",
   "execution_count": 3,
   "outputs": [],
   "source": [
    "scraper = GoogleVideoScraper(webdriver_path,image_path)"
   ],
   "metadata": {
    "collapsed": false
   }
  },
  {
   "cell_type": "code",
   "execution_count": 4,
   "outputs": [
    {
     "name": "stdout",
     "output_type": "stream",
     "text": [
      "[INFO] Gathering video links\n",
      "[INFO] Maximum missed photos reached, exiting...\n",
      "[INFO] Google search ended\n"
     ]
    }
   ],
   "source": [
    "urls = scraper.find_video_urls()"
   ],
   "metadata": {
    "collapsed": false
   }
  },
  {
   "cell_type": "code",
   "execution_count": null,
   "outputs": [],
   "source": [],
   "metadata": {
    "collapsed": false
   }
  }
 ],
 "metadata": {
  "kernelspec": {
   "display_name": "Python 3",
   "language": "python",
   "name": "python3"
  },
  "language_info": {
   "codemirror_mode": {
    "name": "ipython",
    "version": 2
   },
   "file_extension": ".py",
   "mimetype": "text/x-python",
   "name": "python",
   "nbconvert_exporter": "python",
   "pygments_lexer": "ipython2",
   "version": "2.7.6"
  }
 },
 "nbformat": 4,
 "nbformat_minor": 0
}
