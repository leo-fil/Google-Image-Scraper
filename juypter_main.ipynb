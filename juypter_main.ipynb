{
 "cells": [
  {
   "cell_type": "markdown",
   "metadata": {},
   "source": [
    "<h3>Google Image Scraper for Juypter Notebook</h3>"
   ]
  },
  {
   "cell_type": "code",
   "execution_count": 1,
   "metadata": {},
   "outputs": [
    {
     "name": "stdout",
     "output_type": "stream",
     "text": [
      "[INFO] Image path not found. Creating a new folder.\n",
      "[INFO] Gathering image links\n",
      "[INFO] cat \t #0 \t https://i.natgeofe.com/n/548467d8-c5f1-4551-9f58-6817a8d2c45e/NationalGeographic_2572187_square.jpg\n",
      "[INFO] cat \t #1 \t https://upload.wikimedia.org/wikipedia/commons/1/15/Cat_August_2010-4.jpg\n",
      "[INFO] Google search ended\n"
     ]
    },
    {
     "ename": "TypeError",
     "evalue": "GoogleImageScraper.save_images() missing 1 required positional argument: 'keep_filenames'",
     "output_type": "error",
     "traceback": [
      "\u001B[1;31m---------------------------------------------------------------------------\u001B[0m",
      "\u001B[1;31mTypeError\u001B[0m                                 Traceback (most recent call last)",
      "Input \u001B[1;32mIn [1]\u001B[0m, in \u001B[0;36m<cell line: 15>\u001B[1;34m()\u001B[0m\n\u001B[0;32m     16\u001B[0m image_scraper \u001B[38;5;241m=\u001B[39m GoogleImageScraper(webdriver_path,image_path,search_key,number_of_images,headless,min_resolution,max_resolution)\n\u001B[0;32m     17\u001B[0m image_urls \u001B[38;5;241m=\u001B[39m image_scraper\u001B[38;5;241m.\u001B[39mfind_image_urls()\n\u001B[1;32m---> 18\u001B[0m \u001B[43mimage_scraper\u001B[49m\u001B[38;5;241;43m.\u001B[39;49m\u001B[43msave_images\u001B[49m\u001B[43m(\u001B[49m\u001B[43mimage_urls\u001B[49m\u001B[43m)\u001B[49m\n",
      "\u001B[1;31mTypeError\u001B[0m: GoogleImageScraper.save_images() missing 1 required positional argument: 'keep_filenames'"
     ]
    }
   ],
   "source": [
    "import os\n",
    "from GoogleImageScraper import GoogleImageScraper\n",
    "from patch import webdriver_executable\n",
    "\n",
    "webdriver_path = os.path.normpath(os.path.join(os.getcwd(), 'webdriver', webdriver_executable()))\n",
    "image_path = os.path.normpath(os.path.join(os.getcwd(), 'photos'))\n",
    "#add new search key into array [\"cat\",\"t-shirt\",\"apple\",\"orange\",\"pear\",\"fish\"]\n",
    "search_keys= [\"cat\",\"t-shirt\"]\n",
    "number_of_images = 2\n",
    "headless = False\n",
    "#min_resolution = (width,height)\n",
    "min_resolution=(0,0)\n",
    "#max_resolution = (width,height)\n",
    "max_resolution=(1920,1080)\n",
    "for search_key in search_keys:\n",
    "    image_scraper = GoogleImageScraper(webdriver_path,image_path,search_key,number_of_images,headless,min_resolution,max_resolution)\n",
    "    image_urls = image_scraper.find_image_urls()\n",
    "    image_scraper.save_images(image_urls)\n"
   ]
  },
  {
   "cell_type": "code",
   "execution_count": null,
   "metadata": {},
   "outputs": [],
   "source": []
  }
 ],
 "metadata": {
  "kernelspec": {
   "display_name": "Python 3 (ipykernel)",
   "language": "python",
   "name": "python3"
  },
  "language_info": {
   "codemirror_mode": {
    "name": "ipython",
    "version": 3
   },
   "file_extension": ".py",
   "mimetype": "text/x-python",
   "name": "python",
   "nbconvert_exporter": "python",
   "pygments_lexer": "ipython3",
   "version": "3.8.5"
  }
 },
 "nbformat": 4,
 "nbformat_minor": 4
}
